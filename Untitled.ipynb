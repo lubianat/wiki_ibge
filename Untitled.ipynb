{
 "cells": [
  {
   "cell_type": "code",
   "execution_count": 1,
   "metadata": {},
   "outputs": [],
   "source": [
    "import pandas as pd\n",
    "\n"
   ]
  },
  {
   "cell_type": "code",
   "execution_count": 31,
   "metadata": {},
   "outputs": [
    {
     "data": {
      "text/html": [
       "<div>\n",
       "<style scoped>\n",
       "    .dataframe tbody tr th:only-of-type {\n",
       "        vertical-align: middle;\n",
       "    }\n",
       "\n",
       "    .dataframe tbody tr th {\n",
       "        vertical-align: top;\n",
       "    }\n",
       "\n",
       "    .dataframe thead th {\n",
       "        text-align: right;\n",
       "    }\n",
       "</style>\n",
       "<table border=\"1\" class=\"dataframe\">\n",
       "  <thead>\n",
       "    <tr style=\"text-align: right;\">\n",
       "      <th></th>\n",
       "      <th>mun</th>\n",
       "      <th>code</th>\n",
       "      <th>pop</th>\n",
       "    </tr>\n",
       "  </thead>\n",
       "  <tbody>\n",
       "    <tr>\n",
       "      <th>0</th>\n",
       "      <td>COD. UF</td>\n",
       "      <td>COD. UFCOD. MUNIC</td>\n",
       "      <td>POPULAÇÃO ESTIMADA</td>\n",
       "    </tr>\n",
       "    <tr>\n",
       "      <th>1</th>\n",
       "      <td>11</td>\n",
       "      <td>1100015</td>\n",
       "      <td>22728</td>\n",
       "    </tr>\n",
       "    <tr>\n",
       "      <th>2</th>\n",
       "      <td>11</td>\n",
       "      <td>1100023</td>\n",
       "      <td>109523</td>\n",
       "    </tr>\n",
       "    <tr>\n",
       "      <th>3</th>\n",
       "      <td>11</td>\n",
       "      <td>1100031</td>\n",
       "      <td>5188</td>\n",
       "    </tr>\n",
       "    <tr>\n",
       "      <th>4</th>\n",
       "      <td>11</td>\n",
       "      <td>1100049</td>\n",
       "      <td>85893</td>\n",
       "    </tr>\n",
       "    <tr>\n",
       "      <th>...</th>\n",
       "      <td>...</td>\n",
       "      <td>...</td>\n",
       "      <td>...</td>\n",
       "    </tr>\n",
       "    <tr>\n",
       "      <th>5582</th>\n",
       "      <td>nan</td>\n",
       "      <td>nannan</td>\n",
       "      <td>NaN</td>\n",
       "    </tr>\n",
       "    <tr>\n",
       "      <th>5583</th>\n",
       "      <td>nan</td>\n",
       "      <td>nannan</td>\n",
       "      <td>NaN</td>\n",
       "    </tr>\n",
       "    <tr>\n",
       "      <th>5584</th>\n",
       "      <td>nan</td>\n",
       "      <td>nannan</td>\n",
       "      <td>NaN</td>\n",
       "    </tr>\n",
       "    <tr>\n",
       "      <th>5585</th>\n",
       "      <td>nan</td>\n",
       "      <td>nannan</td>\n",
       "      <td>NaN</td>\n",
       "    </tr>\n",
       "    <tr>\n",
       "      <th>5586</th>\n",
       "      <td>nan</td>\n",
       "      <td>nannan</td>\n",
       "      <td>NaN</td>\n",
       "    </tr>\n",
       "  </tbody>\n",
       "</table>\n",
       "<p>5587 rows × 3 columns</p>\n",
       "</div>"
      ],
      "text/plain": [
       "          mun               code                 pop\n",
       "0     COD. UF  COD. UFCOD. MUNIC  POPULAÇÃO ESTIMADA\n",
       "1          11            1100015               22728\n",
       "2          11            1100023              109523\n",
       "3          11            1100031                5188\n",
       "4          11            1100049               85893\n",
       "...       ...                ...                 ...\n",
       "5582      nan             nannan                 NaN\n",
       "5583      nan             nannan                 NaN\n",
       "5584      nan             nannan                 NaN\n",
       "5585      nan             nannan                 NaN\n",
       "5586      nan             nannan                 NaN\n",
       "\n",
       "[5587 rows x 3 columns]"
      ]
     },
     "execution_count": 31,
     "metadata": {},
     "output_type": "execute_result"
    }
   ],
   "source": [
    "df = pd.read_excel(\"estimativa_dou_2020.xls\", sheet_name=\"Municípios\")\n",
    "df = df[[\"Unnamed: 1\", \"Unnamed: 2\", \"Unnamed: 4\"]]\n",
    "\n",
    "df.columns = [\"mun\",\"code\", \"pop\"]\n",
    "\n",
    "\n",
    "df[\"code\"] = df[\"code\"].astype(str)\n",
    "df[\"mun\"] = df[\"mun\"].astype(str)\n",
    "\n",
    "df[\"code\"] = df[\"mun\"] + df[\"code\"]\n",
    "\n",
    "df"
   ]
  },
  {
   "cell_type": "code",
   "execution_count": 32,
   "metadata": {},
   "outputs": [],
   "source": [
    "from wikidata2df import wikidata2df\n",
    "\n",
    "q = \"\"\"\n",
    "SELECT ?item ?itemLabel ?code\n",
    "WHERE \n",
    "{\n",
    "  ?item wdt:P31 wd:Q3184121.\n",
    "  ?item wdt:P1585 ?code\n",
    "  SERVICE wikibase:label { bd:serviceParam wikibase:language \"[AUTO_LANGUAGE],en\". }\n",
    "}\n",
    "\"\"\"\n",
    "\n",
    "\n",
    "df_ref = wikidata2df(q)"
   ]
  },
  {
   "cell_type": "code",
   "execution_count": 33,
   "metadata": {},
   "outputs": [
    {
     "data": {
      "text/plain": [
       "0       1505106\n",
       "1       5101803\n",
       "2       4320263\n",
       "3       2200202\n",
       "4       3520103\n",
       "         ...   \n",
       "5563    2510907\n",
       "5564    2612505\n",
       "5565    2104701\n",
       "5566    2109007\n",
       "5567    5007976\n",
       "Name: code, Length: 5568, dtype: object"
      ]
     },
     "execution_count": 33,
     "metadata": {},
     "output_type": "execute_result"
    }
   ],
   "source": [
    "df_ref[\"code\"]"
   ]
  },
  {
   "cell_type": "code",
   "execution_count": 34,
   "metadata": {},
   "outputs": [
    {
     "data": {
      "text/plain": [
       "0       COD. UFCOD. MUNIC\n",
       "1                 1100015\n",
       "2                 1100023\n",
       "3                 1100031\n",
       "4                 1100049\n",
       "              ...        \n",
       "5582               nannan\n",
       "5583               nannan\n",
       "5584               nannan\n",
       "5585               nannan\n",
       "5586               nannan\n",
       "Name: code, Length: 5587, dtype: object"
      ]
     },
     "execution_count": 34,
     "metadata": {},
     "output_type": "execute_result"
    }
   ],
   "source": [
    "df[\"code\"]"
   ]
  },
  {
   "cell_type": "code",
   "execution_count": 37,
   "metadata": {},
   "outputs": [
    {
     "data": {
      "text/html": [
       "<div>\n",
       "<style scoped>\n",
       "    .dataframe tbody tr th:only-of-type {\n",
       "        vertical-align: middle;\n",
       "    }\n",
       "\n",
       "    .dataframe tbody tr th {\n",
       "        vertical-align: top;\n",
       "    }\n",
       "\n",
       "    .dataframe thead th {\n",
       "        text-align: right;\n",
       "    }\n",
       "</style>\n",
       "<table border=\"1\" class=\"dataframe\">\n",
       "  <thead>\n",
       "    <tr style=\"text-align: right;\">\n",
       "      <th></th>\n",
       "      <th>itemLabel</th>\n",
       "      <th>code</th>\n",
       "      <th>item</th>\n",
       "      <th>mun</th>\n",
       "      <th>pop</th>\n",
       "    </tr>\n",
       "  </thead>\n",
       "  <tbody>\n",
       "    <tr>\n",
       "      <th>0</th>\n",
       "      <td>Óbidos</td>\n",
       "      <td>1505106</td>\n",
       "      <td>Q577167</td>\n",
       "      <td>15</td>\n",
       "      <td>52306</td>\n",
       "    </tr>\n",
       "    <tr>\n",
       "      <th>1</th>\n",
       "      <td>Barra do Garças</td>\n",
       "      <td>5101803</td>\n",
       "      <td>Q577720</td>\n",
       "      <td>51</td>\n",
       "      <td>61135</td>\n",
       "    </tr>\n",
       "    <tr>\n",
       "      <th>2</th>\n",
       "      <td>Segredo</td>\n",
       "      <td>4320263</td>\n",
       "      <td>Q577838</td>\n",
       "      <td>43</td>\n",
       "      <td>7444</td>\n",
       "    </tr>\n",
       "    <tr>\n",
       "      <th>3</th>\n",
       "      <td>Água Branca</td>\n",
       "      <td>2200202</td>\n",
       "      <td>Q578114</td>\n",
       "      <td>22</td>\n",
       "      <td>17470</td>\n",
       "    </tr>\n",
       "    <tr>\n",
       "      <th>4</th>\n",
       "      <td>Igarapava</td>\n",
       "      <td>3520103</td>\n",
       "      <td>Q578124</td>\n",
       "      <td>35</td>\n",
       "      <td>30614</td>\n",
       "    </tr>\n",
       "  </tbody>\n",
       "</table>\n",
       "</div>"
      ],
      "text/plain": [
       "         itemLabel     code     item mun    pop\n",
       "0           Óbidos  1505106  Q577167  15  52306\n",
       "1  Barra do Garças  5101803  Q577720  51  61135\n",
       "2          Segredo  4320263  Q577838  43   7444\n",
       "3      Água Branca  2200202  Q578114  22  17470\n",
       "4        Igarapava  3520103  Q578124  35  30614"
      ]
     },
     "execution_count": 37,
     "metadata": {},
     "output_type": "execute_result"
    }
   ],
   "source": [
    "df = df_ref.merge(df)\n",
    "df.head()"
   ]
  },
  {
   "cell_type": "code",
   "execution_count": 44,
   "metadata": {},
   "outputs": [],
   "source": [
    "with open(\"ibge.qs\", \"w+\") as f:\n",
    "\n",
    "    for i, row in df.iterrows():\n",
    "        s = row[\"item\"]\n",
    "        p = \"|P1082|\"\n",
    "        o = f'{row[\"pop\"]}'\n",
    "        q1 = \"|P585|\"\n",
    "        oq1 = \"+2020-07-01T00:00:00Z/11\"\n",
    "        q2 = \"|P459|\"\n",
    "        oq2 = \"Q791801\"\n",
    "        r1 = \"|S854|\"\n",
    "        or1 = '\"https://www.ibge.gov.br/estatisticas/sociais/populacao/9103-estimativas-de-populacao.html\"'\n",
    "\n",
    "        f.write(s + p + o + q1 + oq1 + q2 + oq2 + r1 + or1 + \"\\n\")"
   ]
  },
  {
   "cell_type": "code",
   "execution_count": null,
   "metadata": {},
   "outputs": [],
   "source": [
    "df_ref"
   ]
  }
 ],
 "metadata": {
  "kernelspec": {
   "display_name": "Python 3",
   "language": "python",
   "name": "python3"
  },
  "language_info": {
   "codemirror_mode": {
    "name": "ipython",
    "version": 3
   },
   "file_extension": ".py",
   "mimetype": "text/x-python",
   "name": "python",
   "nbconvert_exporter": "python",
   "pygments_lexer": "ipython3",
   "version": "3.7.5"
  }
 },
 "nbformat": 4,
 "nbformat_minor": 4
}
